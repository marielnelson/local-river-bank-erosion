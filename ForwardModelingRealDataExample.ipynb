{
 "cells": [
  {
   "cell_type": "markdown",
   "metadata": {},
   "source": [
    "# Example of forward modeling centerline data with Meanderpy"
   ]
  },
  {
   "cell_type": "markdown",
   "metadata": {},
   "source": [
    "### Import Packages"
   ]
  },
  {
   "cell_type": "code",
   "execution_count": 1,
   "metadata": {},
   "outputs": [],
   "source": [
    "import sys\n",
    "sys.path.append('/Users/cole/Dropbox/software/python/')\n",
    "import channelmapper as cm\n",
    "import meanderpy as mp"
   ]
  },
  {
   "cell_type": "code",
   "execution_count": 2,
   "metadata": {},
   "outputs": [],
   "source": [
    "import os\n",
    "import numpy as np\n",
    "import pandas as pd\n",
    "import matplotlib.pyplot as plt\n",
    "import importlib"
   ]
  },
  {
   "cell_type": "code",
   "execution_count": 3,
   "metadata": {},
   "outputs": [],
   "source": [
    "importlib.reload(mp); # Reimport meanderpy if changes are made to .py"
   ]
  },
  {
   "cell_type": "code",
   "execution_count": 4,
   "metadata": {},
   "outputs": [],
   "source": [
    "%matplotlib qt"
   ]
  },
  {
   "cell_type": "markdown",
   "metadata": {},
   "source": [
    "### Import Centerline Data"
   ]
  },
  {
   "cell_type": "code",
   "execution_count": 5,
   "metadata": {},
   "outputs": [],
   "source": [
    "dirname = '/Users/cole/Dropbox/TrinityRiver_Project/cutoff_analysis/data/final_centerline_pts_shapefiles/smoothed_centerline_points/'"
   ]
  },
  {
   "cell_type": "code",
   "execution_count": 6,
   "metadata": {},
   "outputs": [
    {
     "name": "stdout",
     "output_type": "stream",
     "text": [
      "['smoothed_centerline_pts_LT05_025039_19841121.csv', 'smoothed_centerline_pts_LT05_025039_19851007.csv', 'smoothed_centerline_pts_LT05_025039_19861026.csv', 'smoothed_centerline_pts_LT05_025039_19871029.csv', 'smoothed_centerline_pts_LT05_025039_19881218.csv', 'smoothed_centerline_pts_LT05_025039_19891205.csv', 'smoothed_centerline_pts_LT05_025039_19901106.csv', 'smoothed_centerline_pts_LT05_025039_19910330.csv', 'smoothed_centerline_pts_LT05_025039_19921026.csv', 'smoothed_centerline_pts_LT05_025039_19930927.csv', 'smoothed_centerline_pts_LT05_025039_19940407.csv', 'smoothed_centerline_pts_LT05_025039_19950221.csv', 'smoothed_centerline_pts_LT05_025039_19960224.csv', 'smoothed_centerline_pts_LT05_025039_19970821.csv', 'smoothed_centerline_pts_LT05_025039_19980504.csv', 'smoothed_centerline_pts_LT05_025039_19990827.csv', 'smoothed_centerline_pts_LT05_025039_20000203.csv', 'smoothed_centerline_pts_LT05_025039_20011120.csv', 'smoothed_centerline_pts_LT05_025039_20021123.csv', 'smoothed_centerline_pts_LT05_025039_20030518.csv', 'smoothed_centerline_pts_LT05_025039_20040909.csv', 'smoothed_centerline_pts_LT05_025039_20050523.csv', 'smoothed_centerline_pts_LT05_025039_20060830.csv', 'smoothed_centerline_pts_LT05_025039_20071004.csv', 'smoothed_centerline_pts_LT05_025039_20080904.csv', 'smoothed_centerline_pts_LT05_025039_20090211.csv', 'smoothed_centerline_pts_LT05_025039_20100825.csv', 'smoothed_centerline_pts_LT05_025039_20111015.csv', 'smoothed_centerline_pts_LE07_025039_20120721.csv', 'smoothed_centerline_pts_LC08_025039_20130817.csv', 'smoothed_centerline_pts_LC08_025039_20141124.csv', 'smoothed_centerline_pts_LC08_025039_20151010.csv', 'smoothed_centerline_pts_LC08_025039_20161028.csv', 'smoothed_centerline_pts_LC08_025039_20170929.csv', 'smoothed_centerline_pts_LC08_025039_20180425.csv', 'smoothed_centerline_pts_LC08_025039_20191224.csv', 'smoothed_centerline_pts_LC08_025039_20200820.csv']\n"
     ]
    }
   ],
   "source": [
    "# Get list of all files in a given directory sorted by name\n",
    "cl_list = [f for f in os.listdir(dirname) if f.endswith('.csv')]\n",
    "cl_list.sort(key = lambda x: x.split('_',)[5])\n",
    "print(cl_list)"
   ]
  },
  {
   "cell_type": "markdown",
   "metadata": {},
   "source": [
    "### Read in the first centerline (1984) "
   ]
  },
  {
   "cell_type": "code",
   "execution_count": 7,
   "metadata": {},
   "outputs": [],
   "source": [
    "cl_1984 = pd.read_csv(dirname+cl_list[0]) #centerline in csv format"
   ]
  },
  {
   "cell_type": "code",
   "execution_count": 8,
   "metadata": {},
   "outputs": [],
   "source": [
    "#convert to numpy array\n",
    "centerline1984 = cl_1984.values\n",
    "x1984 = centerline1984[:,0]\n",
    "y1984 = centerline1984[:,1]\n",
    "z1984 = np.zeros(len(y1984),float)"
   ]
  },
  {
   "cell_type": "code",
   "execution_count": 9,
   "metadata": {},
   "outputs": [],
   "source": [
    "#plot for inspection\n",
    "fig = plt.figure()\n",
    "plt.plot(x1984,y1984,'darkblue', label='1984')\n",
    "plt.axis('equal')\n",
    "plt.title('Trinity River Centerline - 1984');"
   ]
  },
  {
   "cell_type": "markdown",
   "metadata": {},
   "source": [
    "## Forward modeling"
   ]
  },
  {
   "cell_type": "markdown",
   "metadata": {},
   "source": [
    "### Meanderpy parameterization"
   ]
  },
  {
   "cell_type": "code",
   "execution_count": 10,
   "metadata": {},
   "outputs": [],
   "source": [
    "W = 100                      # Estimate\n",
    "D = (W/18.8)**0.7092\n",
    "pad = 100                    # padding (number of nodepoints along centerline)\n",
    "deltas = 25                  # sampling distance along centerline\n",
    "\n",
    "dt_year = 365*24*60*60.0     # time step (s); equal to 1 year\n",
    "nit_years = 36               # number of iterations; dt is one year, 1984-2020 = 36 years/iterations        \n",
    "\n",
    "crdist = 1.5*W               # threshold distance at which cutoffs occur; Rule of thumb ~1.5W\n",
    "kl = 30/(365*24*60*60.0)     # migration rate constant (m/s)\n",
    "kv =  1.0E-12                # vertical slope-dependent erosion rate constant (m/s)\n",
    "dens = 1000                  # density of water (kg/m3)\n",
    "\n",
    "saved_ts_years = 1           # which time steps will be saved; save the channel position every 12 months\n",
    "\n",
    "S1 = 0.0                     #channel bed slope\n",
    "\n",
    "#depths = D * np.ones((nit_years,)) + np.repeat(1.5*(np.random.random_sample(int(nit_years/saved_ts_years))-0.5), saved_ts_years)\n",
    "depths = D * np.ones((nit_years,))  # depth array\n",
    "\n",
    "Cfs = 0.005 * np.ones((nit_years,)) # dimensionless Chezy friction factor array\n",
    "\n",
    "                             # these don't affect the plan-view migration pattern\n",
    "t1 = 1                       # time step when incision starts\n",
    "t2 = 1                       # time step when lateral migration starts\n",
    "t3 = 100                     # time step when aggradation starts\n",
    "aggr_factor = 4e-9           # aggradation factor (m/s, about 0.18 m/year, it kicks in after t3)"
   ]
  },
  {
   "cell_type": "markdown",
   "metadata": {},
   "source": [
    "### Build 'channel' and 'channelbelt' objects with the centerline"
   ]
  },
  {
   "cell_type": "code",
   "execution_count": 11,
   "metadata": {},
   "outputs": [],
   "source": [
    "ch1984 = mp.Channel(x1984,y1984,z1984,W,D)\n",
    "chb1984 = mp.ChannelBelt(channels=[ch1984],cutoffs=[],cl_times=[0.0],cutoff_times=[])"
   ]
  },
  {
   "cell_type": "code",
   "execution_count": 12,
   "metadata": {},
   "outputs": [],
   "source": [
    "fig = chb1984.plot('strat', 20, 60, chb1984.cl_times[-1], len(chb1984.channels)) # plotting"
   ]
  },
  {
   "cell_type": "markdown",
   "metadata": {},
   "source": [
    "### Migrate the channel using the above parameterization"
   ]
  },
  {
   "cell_type": "code",
   "execution_count": 13,
   "metadata": {},
   "outputs": [
    {
     "name": "stderr",
     "output_type": "stream",
     "text": [
      "100%|██████████| 36/36 [00:47<00:00,  1.33s/it]\n"
     ]
    }
   ],
   "source": [
    "chb1984.migrate(nit_years,saved_ts_years,deltas,pad,crdist,depths,Cfs,kl,kv,dt_year,dens,t1,t2,t3,aggr_factor)"
   ]
  },
  {
   "cell_type": "code",
   "execution_count": 14,
   "metadata": {},
   "outputs": [],
   "source": [
    "fig = chb1984.plot('strat', 20, 60, chb1984.cl_times[-1], len(chb1984.channels)) # plotting"
   ]
  },
  {
   "cell_type": "markdown",
   "metadata": {},
   "source": [
    "### Look at the first and last channel centerline locations"
   ]
  },
  {
   "cell_type": "code",
   "execution_count": 15,
   "metadata": {},
   "outputs": [],
   "source": [
    "modeled_2020_centerline = chb1984.channels[-1]"
   ]
  },
  {
   "cell_type": "code",
   "execution_count": 16,
   "metadata": {},
   "outputs": [],
   "source": [
    "fig = plt.figure()\n",
    "plt.plot(x1984,y1984,'lightgrey', label = 'Actual 1984 Centerline')\n",
    "plt.plot(modeled_2020_centerline.x,modeled_2020_centerline.y,'k--', label ='Modeled 2020 Centerline')\n",
    "\n",
    "plt.axis('equal')\n",
    "plt.legend();"
   ]
  }
 ],
 "metadata": {
  "kernelspec": {
   "display_name": "Python 3",
   "language": "python",
   "name": "python3"
  },
  "language_info": {
   "codemirror_mode": {
    "name": "ipython",
    "version": 3
   },
   "file_extension": ".py",
   "mimetype": "text/x-python",
   "name": "python",
   "nbconvert_exporter": "python",
   "pygments_lexer": "ipython3",
   "version": "3.9.1"
  }
 },
 "nbformat": 4,
 "nbformat_minor": 4
}
